{
 "cells": [
  {
   "cell_type": "markdown",
   "metadata": {},
   "source": [
    "# **Data import**"
   ]
  },
  {
   "cell_type": "code",
   "execution_count": 28,
   "metadata": {
    "execution": {
     "iopub.execute_input": "2024-06-25T15:30:30.536103Z",
     "iopub.status.busy": "2024-06-25T15:30:30.535660Z",
     "iopub.status.idle": "2024-06-25T15:30:30.591003Z",
     "shell.execute_reply": "2024-06-25T15:30:30.589866Z",
     "shell.execute_reply.started": "2024-06-25T15:30:30.536069Z"
    }
   },
   "outputs": [],
   "source": [
    "import numpy as np\n",
    "import pandas as pd\n",
    "\n",
    "train_data = pd.read_csv('data/train.csv')\n",
    "test_data = pd.read_csv('data/test.csv')\n",
    "\n",
    "train_data = pd.read_csv('/kaggle/input/house-prices-advanced-regression-techniques/train.csv')\n",
    "test_data = pd.read_csv('/kaggle/input/house-prices-advanced-regression-techniques/test.csv')\n",
    "\n",
    "X_all = train_data.drop(['SalePrice'], axis=1)\n",
    "y_all = train_data.SalePrice"
   ]
  },
  {
   "cell_type": "markdown",
   "metadata": {},
   "source": [
    "# **Column description**"
   ]
  },
  {
   "cell_type": "code",
   "execution_count": 18,
   "metadata": {
    "execution": {
     "iopub.execute_input": "2024-06-25T15:07:22.010817Z",
     "iopub.status.busy": "2024-06-25T15:07:22.010402Z",
     "iopub.status.idle": "2024-06-25T15:07:22.090765Z",
     "shell.execute_reply": "2024-06-25T15:07:22.089638Z",
     "shell.execute_reply.started": "2024-06-25T15:07:22.010781Z"
    }
   },
   "outputs": [],
   "source": [
    "numeric_cols = X_all.drop(['Id', 'GarageYrBlt'], axis=1).select_dtypes(['int64', 'float64']).columns\n",
    "categorical_cols = X_all.select_dtypes('object').columns.to_list()\n",
    "categorical_cols.append('GarageYrBlt')\n",
    "\n",
    "\n",
    "many_null_cols = [nc for nc in X_all.columns if len(X_all[nc][X_all[nc].isnull()]) > len(X_all.index) / 2] \n",
    "any_null_cols = [any_null_col for any_null_col in X_all.columns if X_all[any_null_col].isnull().any()]\n",
    "null_to_not = ['MasVnrType', 'GarageType', 'GarageFinish', 'MiscFeature', 'Alley',  \n",
    "               'FireplaceQu', 'Fence', 'BsmtQual', 'PoolQC', \n",
    "               'BsmtCond', 'BsmtExposure', 'BsmtFinType1','BsmtFinType2', 'GarageQual', \n",
    "               'GarageCond', 'GarageYrBlt']\n",
    "null_to_most_freq = ['Electrical']\n",
    "null_to_const = ['LotFrontage', 'MasVnrArea']\n",
    "\n",
    "any_null_cols_test = [any_null_col for any_null_col in test_data.columns if test_data[any_null_col].isnull().any()]\n",
    "dif = [i for i in any_null_cols_test if i not in any_null_cols]\n",
    "null_to_most_freq_test = test_data[dif].select_dtypes('object').columns.to_list()\n",
    "null_to_const_test = test_data[dif].select_dtypes('float64').columns.to_list()\n",
    "\n",
    "cols_to_order = ['ExterQual', 'ExterCond', 'BsmtQual', 'BsmtCond', 'BsmtExposure', \n",
    "                 'BsmtFinType1', 'BsmtFinType2', 'HeatingQC', 'KitchenQual', 'PoolQC', \n",
    "                 'FireplaceQu', 'GarageQual', 'GarageCond', 'Fence']\n",
    "\n",
    "cols_to_onehot = [col for col in categorical_cols if col not in cols_to_order]"
   ]
  },
  {
   "cell_type": "markdown",
   "metadata": {},
   "source": [
    "# **Data notes**"
   ]
  },
  {
   "cell_type": "code",
   "execution_count": 19,
   "metadata": {
    "execution": {
     "iopub.execute_input": "2024-06-25T15:07:22.094082Z",
     "iopub.status.busy": "2024-06-25T15:07:22.093240Z",
     "iopub.status.idle": "2024-06-25T15:07:22.120158Z",
     "shell.execute_reply": "2024-06-25T15:07:22.118716Z",
     "shell.execute_reply.started": "2024-06-25T15:07:22.094042Z"
    }
   },
   "outputs": [],
   "source": [
    "less_then_two_unique_values_cols = [i for i in X_all.columns if len(X_all[i].unique()) < 2]\n",
    "#  len(less_then_two_unique_values_cols) => 0\n",
    "\n",
    "cat_cols_to_numeric = ['YearRemodAdd']\n",
    "#  YearRemodAdd, score better when numeric..\n",
    "\n",
    "useless_cols = ['Id']\n",
    "\n",
    "suspicious_obs = list()\n",
    "suspicious_obs.extend(X_all['LotFrontage'][X_all['LotFrontage'] > 200].index.to_list()) \n",
    "# anomaly_obs in col => [934, 1298]\n",
    "suspicious_obs.append(X_all['Electrical'][X_all['Electrical'].isnull()].index[0])\n",
    "# electrical NA, only one obs.. in test without missing.. => 1379\n",
    "\n",
    "\n",
    "interdep_cols = [\n",
    "    ['Condition1', 'Condition2'],\n",
    "    ['Exterior1st', 'Exterior2nd'],\n",
    "    ['BsmtQual', 'BsmtCond', 'BsmtExposure', 'BsmtFinType1', 'BsmtFinSF1', 'BsmtFinType2', 'BsmtFinSF2', \n",
    "     'BsmtUnfSF', 'TotalBsmtSF', 'BsmtFullBath', 'BsmtHalfBath'],\n",
    "    ['Fireplaces', 'FireplaceQu'], \n",
    "    ['GarageType', 'GarageYrBlt', 'GarageFinish', 'GarageCars', 'GarageArea', 'GarageQual', 'GarageCond'], \n",
    "    ['PoolArea', 'PoolQC']\n",
    "]\n",
    "\n",
    "doubtful_cols = ['GarageYrBlt', 'YrSold', 'YearBuilt', 'YearRemodAdd'] \n",
    "#  numeric with 'not' potencially\n",
    "\n",
    "\n",
    "more_then_ten_to_onehot = [i for i in cols_to_onehot if len(X_all[i].unique()) > 10]  \n",
    "# len(more_then_ten_to_onehot) => 4"
   ]
  },
  {
   "cell_type": "markdown",
   "metadata": {},
   "source": [
    "# **Missing value recovery**"
   ]
  },
  {
   "cell_type": "code",
   "execution_count": 20,
   "metadata": {
    "execution": {
     "iopub.execute_input": "2024-06-25T15:07:22.121612Z",
     "iopub.status.busy": "2024-06-25T15:07:22.121304Z",
     "iopub.status.idle": "2024-06-25T15:07:22.166756Z",
     "shell.execute_reply": "2024-06-25T15:07:22.165590Z",
     "shell.execute_reply.started": "2024-06-25T15:07:22.121584Z"
    }
   },
   "outputs": [],
   "source": [
    "from sklearn.impute import SimpleImputer\n",
    "\n",
    "X = X_all.copy()\n",
    "X_test = test_data.copy()\n",
    "\n",
    "X[null_to_not] = X[null_to_not].fillna('not')\n",
    "X_test[null_to_not] = X_test[null_to_not].fillna('not')\n",
    "\n",
    "X[null_to_const] = X[null_to_const].fillna(0)\n",
    "X_test[null_to_const] = X_test[null_to_const].fillna(0)\n",
    "X_test[null_to_const_test] = X_test[null_to_const_test].fillna(0)\n",
    "\n",
    "imp = SimpleImputer(strategy='most_frequent')\n",
    "\n",
    "X[null_to_most_freq] = pd.DataFrame(imp.fit_transform(X[null_to_most_freq]))\n",
    "X_test[null_to_most_freq_test] = pd.DataFrame(imp.fit_transform(X_test[null_to_most_freq_test]))"
   ]
  },
  {
   "cell_type": "markdown",
   "metadata": {},
   "source": [
    "# **Сategorical transformation**"
   ]
  },
  {
   "cell_type": "code",
   "execution_count": 21,
   "metadata": {
    "execution": {
     "iopub.execute_input": "2024-06-25T15:07:22.168859Z",
     "iopub.status.busy": "2024-06-25T15:07:22.168476Z",
     "iopub.status.idle": "2024-06-25T15:07:22.276326Z",
     "shell.execute_reply": "2024-06-25T15:07:22.275141Z",
     "shell.execute_reply.started": "2024-06-25T15:07:22.168803Z"
    }
   },
   "outputs": [],
   "source": [
    "from sklearn.preprocessing import OrdinalEncoder\n",
    "\n",
    "categories_to_order = [\n",
    "    ['not', 'Po', 'Fa', 'TA', 'Gd', 'Ex'], ['not', 'Po', 'Fa', 'TA', 'Gd', 'Ex'], \n",
    "    ['not', 'Po', 'Fa', 'TA', 'Gd', 'Ex'], ['not', 'Po', 'Fa', 'TA', 'Gd', 'Ex'],\n",
    "    ['not', 'No', 'Mn', 'Av', 'Gd'], ['not', 'Unf', 'LwQ', 'Rec', 'BLQ', 'ALQ', 'GLQ'],\n",
    "    ['not', 'Unf', 'LwQ', 'Rec', 'BLQ', 'ALQ', 'GLQ'], ['not', 'Po', 'Fa', 'TA', 'Gd', 'Ex'],\n",
    "    ['not', 'Po', 'Fa', 'TA', 'Gd', 'Ex'], ['not', 'Po', 'Fa', 'TA', 'Gd', 'Ex'],\n",
    "    ['not', 'Po', 'Fa', 'TA', 'Gd', 'Ex'], ['not', 'Po', 'Fa', 'TA', 'Gd', 'Ex'], \n",
    "    ['not', 'Po', 'Fa', 'TA', 'Gd', 'Ex'], ['not', 'MnWw', 'GdWo', 'MnPrv', 'GdPrv']\n",
    "]\n",
    "\n",
    "ord_enc = OrdinalEncoder(categories=categories_to_order)\n",
    "X[cols_to_order] = ord_enc.fit_transform(X[cols_to_order])\n",
    "X_test[cols_to_order] = ord_enc.transform(X_test[cols_to_order])\n",
    "\n",
    "X_onehot = pd.get_dummies(X[cols_to_onehot])\n",
    "X_test_onehot = pd.get_dummies(X_test[cols_to_onehot])\n",
    "\n",
    "X = X.drop(cols_to_onehot, axis = 1)\n",
    "X_test = X_test.drop(cols_to_onehot, axis = 1)\n",
    "\n",
    "X = pd.concat([X, X_onehot], axis=1)\n",
    "X_test = pd.concat([X_test, X_test_onehot], axis=1)"
   ]
  },
  {
   "cell_type": "markdown",
   "metadata": {},
   "source": [
    "# **Data optimization**"
   ]
  },
  {
   "cell_type": "code",
   "execution_count": 22,
   "metadata": {
    "execution": {
     "iopub.execute_input": "2024-06-25T15:07:22.279193Z",
     "iopub.status.busy": "2024-06-25T15:07:22.278867Z",
     "iopub.status.idle": "2024-06-25T15:07:22.303398Z",
     "shell.execute_reply": "2024-06-25T15:07:22.302373Z",
     "shell.execute_reply.started": "2024-06-25T15:07:22.279166Z"
    }
   },
   "outputs": [],
   "source": [
    "cols_to_drop = ['Id', 'MiscFeature', 'PoolQC', 'Alley']\n",
    "\n",
    "for x in [X, X_test]:\n",
    "    for col in x.columns:\n",
    "        for c in cols_to_drop:\n",
    "            if c in col:\n",
    "                if id(x) == id(X):\n",
    "                    X = X.drop(col, axis=1)\n",
    "                    x = X\n",
    "                elif id(x) == id(X_test):\n",
    "                    X_test = X_test.drop(col, axis=1)\n",
    "                    x = X_test"
   ]
  },
  {
   "cell_type": "markdown",
   "metadata": {},
   "source": [
    "# **Model optimization**"
   ]
  },
  {
   "cell_type": "code",
   "execution_count": 23,
   "metadata": {
    "execution": {
     "iopub.execute_input": "2024-06-25T15:07:22.304875Z",
     "iopub.status.busy": "2024-06-25T15:07:22.304552Z",
     "iopub.status.idle": "2024-06-25T15:07:22.311382Z",
     "shell.execute_reply": "2024-06-25T15:07:22.310054Z",
     "shell.execute_reply.started": "2024-06-25T15:07:22.304817Z"
    }
   },
   "outputs": [],
   "source": [
    "from xgboost import XGBRegressor\n",
    "from sklearn.metrics import mean_squared_log_error\n",
    "\n",
    "pre_model = XGBRegressor(\n",
    "    n_estimators=460, \n",
    "    learning_rate=0.05, \n",
    "    random_state=42, \n",
    "    n_jobs=-1,\n",
    "    reg_alpha=1.3,\n",
    "    reg_lambda=8,\n",
    "    max_depth=4\n",
    ")"
   ]
  },
  {
   "cell_type": "code",
   "execution_count": 25,
   "metadata": {
    "execution": {
     "iopub.execute_input": "2024-06-25T15:07:22.323857Z",
     "iopub.status.busy": "2024-06-25T15:07:22.323467Z",
     "iopub.status.idle": "2024-06-25T15:07:22.344932Z",
     "shell.execute_reply": "2024-06-25T15:07:22.343717Z",
     "shell.execute_reply.started": "2024-06-25T15:07:22.323806Z"
    }
   },
   "outputs": [],
   "source": [
    "drop_from_cat_all = [1386, 1024, 1152, 1187, 185, 198, 267, 304, 635, 883, 1031, 1440, 944, 1230, 1003, 29, 548, 595, 398, 185, 268, 760, 810, 1386, 1349,\n",
    "                    1416, 106, 991, 438, 1234, 848, 184, 1137, 653, 841, 809, 583, 1292, 185, 1235, 735, 848, 653, 1397, 1244, 657, 146, 8, 1400, 1343]\n",
    "drop_from_cat = [1386, 1024, 1152, 1187, 185, 198, 267, 304, 635, 883, 1031, 1440, 944, 1230, 1003, 29, 548, 595, 398, 185, 268, 760, 810, 1386, 1349]\n",
    "# 1386 Теннисный корт\n",
    "# 1024 Каменная отделка\n",
    "# 1152 Каменная отделка\n",
    "# 1187 Иммитация лепнины (отделка)\n",
    "# 185     2.5Fin два с половиной этажа\n",
    "# 198     2.5Fin\n",
    "# 267     2.5Fin\n",
    "# 304     2.5Fin\n",
    "# 635     2.5Fin\n",
    "# 883     2.5Fin\n",
    "# 1031    2.5Fin\n",
    "# 1440    2.5Fin\n",
    "# 944   без воды\n",
    "\n",
    "drop_from_num_all = [1298, 934, 249, 313, 335, 451, 706]\n",
    "drop_from_num = []\n",
    "# 1298 самый крупный\n",
    "# 934 самая большая придворовая территория (как и у 1298)\n",
    "# 249     159000  большая территория\n",
    "# 313     215245\n",
    "# 335     164660\n",
    "# 451      70761\n",
    "# 706     115149\n",
    "\n",
    "X_new = X.drop(drop_from_cat_all + drop_from_num_all)\n",
    "y_new = y_all.drop(drop_from_cat_all + drop_from_num_all)\n",
    "\n",
    "X_sub = X.drop(drop_from_cat + drop_from_num)\n",
    "y_sub = y_all.drop(drop_from_cat + drop_from_num)"
   ]
  },
  {
   "cell_type": "code",
   "execution_count": 26,
   "metadata": {
    "execution": {
     "iopub.execute_input": "2024-06-25T15:07:22.347539Z",
     "iopub.status.busy": "2024-06-25T15:07:22.346856Z",
     "iopub.status.idle": "2024-06-25T15:07:33.817792Z",
     "shell.execute_reply": "2024-06-25T15:07:33.816871Z",
     "shell.execute_reply.started": "2024-06-25T15:07:22.347500Z"
    }
   },
   "outputs": [
    {
     "name": "stdout",
     "output_type": "stream",
     "text": [
      "Self score: 0.06710169915630847\n",
      "CV score: 0.12615332854982214\n"
     ]
    }
   ],
   "source": [
    "from sklearn.model_selection import train_test_split\n",
    "from sklearn.model_selection import cross_val_score\n",
    "\n",
    "X_train, X_valid, y_train, y_valid = train_test_split(X_sub, y_sub, random_state=42)\n",
    "\n",
    "pre_model.fit(X_sub, y_sub)\n",
    "pred_self = pre_model.predict(X_sub)\n",
    "mse_self = mean_squared_log_error(y_sub, pred_self)\n",
    "print(f'Self score: {mse_self ** 0.5}')\n",
    "\n",
    "scores = cross_val_score(pre_model, X_sub, y_sub, cv=5, scoring='neg_mean_squared_log_error')\n",
    "print(f'CV score: {(scores.mean() * -1) ** 0.5}')"
   ]
  },
  {
   "cell_type": "code",
   "execution_count": 12,
   "metadata": {
    "execution": {
     "iopub.execute_input": "2024-06-25T15:06:24.834944Z",
     "iopub.status.busy": "2024-06-25T15:06:24.834153Z",
     "iopub.status.idle": "2024-06-25T15:06:24.842512Z",
     "shell.execute_reply": "2024-06-25T15:06:24.841506Z",
     "shell.execute_reply.started": "2024-06-25T15:06:24.834912Z"
    }
   },
   "outputs": [],
   "source": [
    "# from sklearn.model_selection import GridSearchCV\n",
    "\n",
    "# params = {\n",
    "# #     'n_estimators': range(450, 1550, 50),\n",
    "# #     'learning_rate': [0.005, 0.01, 0.05, 0.09, 0.1, 0.5, 0.9], \n",
    "# #     'reg_alpha': [a / 10 for a in range(12, 15)] + [0], \n",
    "# #     'reg_lambda': [a / 10 for a in range(75, 80)] + [0]\n",
    "#     'max_depth': range(2, 6)\n",
    "    \n",
    "# #     'n_estimators': range(440, 470, 5),\n",
    "# #     'learning_rate': [0.049, 0.05, 0.051], \n",
    "# #     'reg_alpha': [0, 1, 2, 3], \n",
    "# #     'reg_lambda': [0, 1, 7, 8, 9]\n",
    "    \n",
    "# }\n",
    "\n",
    "# grid = GridSearchCV(\n",
    "#     pre_model, \n",
    "#     params, \n",
    "#     n_jobs=-1, \n",
    "#     scoring='neg_mean_squared_log_error', \n",
    "#     cv=5,\n",
    "#     verbose=2\n",
    "# )\n",
    "\n",
    "# grid.fit(X_sub, y_sub)\n",
    "\n",
    "# print(grid.best_params_)"
   ]
  },
  {
   "cell_type": "code",
   "execution_count": 13,
   "metadata": {
    "execution": {
     "iopub.execute_input": "2024-06-25T15:06:24.844976Z",
     "iopub.status.busy": "2024-06-25T15:06:24.844418Z",
     "iopub.status.idle": "2024-06-25T15:06:24.851381Z",
     "shell.execute_reply": "2024-06-25T15:06:24.850321Z",
     "shell.execute_reply.started": "2024-06-25T15:06:24.844939Z"
    }
   },
   "outputs": [],
   "source": [
    "# from sklearn.model_selection import cross_val_score\n",
    "\n",
    "# scores = cross_val_score(pre_model, X, y_all, cv=5, scoring='neg_mean_squared_log_error')\n",
    "# scores.mean() * -1"
   ]
  },
  {
   "cell_type": "code",
   "execution_count": 14,
   "metadata": {
    "execution": {
     "iopub.execute_input": "2024-06-25T15:06:24.853366Z",
     "iopub.status.busy": "2024-06-25T15:06:24.852935Z",
     "iopub.status.idle": "2024-06-25T15:06:26.761894Z",
     "shell.execute_reply": "2024-06-25T15:06:26.761034Z",
     "shell.execute_reply.started": "2024-06-25T15:06:24.853329Z"
    }
   },
   "outputs": [],
   "source": [
    "import matplotlib.pyplot as plt\n",
    "\n",
    "pre_model.fit(X, y_all)\n",
    "\n",
    "feat_imp = pre_model.feature_importances_\n",
    "feat_names = pre_model.feature_names_in_\n",
    "\n",
    "df_imp = pd.DataFrame(index=feat_names, data=feat_imp).sort_values(0, ascending=False)\n",
    "\n",
    "# plt.figure(figsize=(15, 8))\n",
    "# plt.xticks(rotation=45)\n",
    "# plt.bar(df_imp.index, df_imp[0])"
   ]
  },
  {
   "cell_type": "code",
   "execution_count": 15,
   "metadata": {
    "execution": {
     "iopub.execute_input": "2024-06-25T15:06:39.252592Z",
     "iopub.status.busy": "2024-06-25T15:06:39.252204Z",
     "iopub.status.idle": "2024-06-25T15:06:39.271567Z",
     "shell.execute_reply": "2024-06-25T15:06:39.270195Z",
     "shell.execute_reply.started": "2024-06-25T15:06:39.252565Z"
    }
   },
   "outputs": [
    {
     "data": {
      "text/html": [
       "<div>\n",
       "<style scoped>\n",
       "    .dataframe tbody tr th:only-of-type {\n",
       "        vertical-align: middle;\n",
       "    }\n",
       "\n",
       "    .dataframe tbody tr th {\n",
       "        vertical-align: top;\n",
       "    }\n",
       "\n",
       "    .dataframe thead th {\n",
       "        text-align: right;\n",
       "    }\n",
       "</style>\n",
       "<table border=\"1\" class=\"dataframe\">\n",
       "  <thead>\n",
       "    <tr style=\"text-align: right;\">\n",
       "      <th></th>\n",
       "      <th>0</th>\n",
       "    </tr>\n",
       "  </thead>\n",
       "  <tbody>\n",
       "    <tr>\n",
       "      <th>OverallQual</th>\n",
       "      <td>0.246468</td>\n",
       "    </tr>\n",
       "    <tr>\n",
       "      <th>GarageCars</th>\n",
       "      <td>0.111065</td>\n",
       "    </tr>\n",
       "    <tr>\n",
       "      <th>KitchenQual</th>\n",
       "      <td>0.048222</td>\n",
       "    </tr>\n",
       "    <tr>\n",
       "      <th>ExterQual</th>\n",
       "      <td>0.042798</td>\n",
       "    </tr>\n",
       "    <tr>\n",
       "      <th>BsmtQual</th>\n",
       "      <td>0.040921</td>\n",
       "    </tr>\n",
       "    <tr>\n",
       "      <th>GarageType_Attchd</th>\n",
       "      <td>0.037763</td>\n",
       "    </tr>\n",
       "    <tr>\n",
       "      <th>LandContour_Bnk</th>\n",
       "      <td>0.035048</td>\n",
       "    </tr>\n",
       "    <tr>\n",
       "      <th>GrLivArea</th>\n",
       "      <td>0.033727</td>\n",
       "    </tr>\n",
       "    <tr>\n",
       "      <th>MSZoning_RM</th>\n",
       "      <td>0.022400</td>\n",
       "    </tr>\n",
       "    <tr>\n",
       "      <th>FireplaceQu</th>\n",
       "      <td>0.021159</td>\n",
       "    </tr>\n",
       "    <tr>\n",
       "      <th>MSZoning_RL</th>\n",
       "      <td>0.019120</td>\n",
       "    </tr>\n",
       "    <tr>\n",
       "      <th>GarageFinish_Unf</th>\n",
       "      <td>0.016574</td>\n",
       "    </tr>\n",
       "    <tr>\n",
       "      <th>GarageCond</th>\n",
       "      <td>0.016568</td>\n",
       "    </tr>\n",
       "    <tr>\n",
       "      <th>1stFlrSF</th>\n",
       "      <td>0.014495</td>\n",
       "    </tr>\n",
       "    <tr>\n",
       "      <th>TotalBsmtSF</th>\n",
       "      <td>0.013963</td>\n",
       "    </tr>\n",
       "    <tr>\n",
       "      <th>BsmtFinSF1</th>\n",
       "      <td>0.013872</td>\n",
       "    </tr>\n",
       "    <tr>\n",
       "      <th>CentralAir_N</th>\n",
       "      <td>0.013813</td>\n",
       "    </tr>\n",
       "    <tr>\n",
       "      <th>Neighborhood_Edwards</th>\n",
       "      <td>0.011343</td>\n",
       "    </tr>\n",
       "    <tr>\n",
       "      <th>GarageType_Detchd</th>\n",
       "      <td>0.010725</td>\n",
       "    </tr>\n",
       "    <tr>\n",
       "      <th>LotShape_Reg</th>\n",
       "      <td>0.010261</td>\n",
       "    </tr>\n",
       "  </tbody>\n",
       "</table>\n",
       "</div>"
      ],
      "text/plain": [
       "                             0\n",
       "OverallQual           0.246468\n",
       "GarageCars            0.111065\n",
       "KitchenQual           0.048222\n",
       "ExterQual             0.042798\n",
       "BsmtQual              0.040921\n",
       "GarageType_Attchd     0.037763\n",
       "LandContour_Bnk       0.035048\n",
       "GrLivArea             0.033727\n",
       "MSZoning_RM           0.022400\n",
       "FireplaceQu           0.021159\n",
       "MSZoning_RL           0.019120\n",
       "GarageFinish_Unf      0.016574\n",
       "GarageCond            0.016568\n",
       "1stFlrSF              0.014495\n",
       "TotalBsmtSF           0.013963\n",
       "BsmtFinSF1            0.013872\n",
       "CentralAir_N          0.013813\n",
       "Neighborhood_Edwards  0.011343\n",
       "GarageType_Detchd     0.010725\n",
       "LotShape_Reg          0.010261"
      ]
     },
     "execution_count": 15,
     "metadata": {},
     "output_type": "execute_result"
    }
   ],
   "source": [
    "not_used_features = df_imp[df_imp[0] == 0].index\n",
    "\n",
    "df_imp.sort_values(0, ascending=False).head(20)"
   ]
  },
  {
   "cell_type": "markdown",
   "metadata": {},
   "source": [
    "# **Experimental block**"
   ]
  },
  {
   "cell_type": "code",
   "execution_count": null,
   "metadata": {
    "execution": {
     "iopub.execute_input": "2024-06-25T07:59:35.438008Z",
     "iopub.status.busy": "2024-06-25T07:59:35.437430Z",
     "iopub.status.idle": "2024-06-25T07:59:35.443788Z",
     "shell.execute_reply": "2024-06-25T07:59:35.442847Z",
     "shell.execute_reply.started": "2024-06-25T07:59:35.437978Z"
    }
   },
   "outputs": [],
   "source": [
    "# pre_model.fit(X, y_all)\n",
    "\n",
    "# folds_list = list()\n",
    "# for s in range(5, 10):\n",
    "#     part = s / 10\n",
    "#     X_t, X_v, y_t, y_v = train_test_split(X, y_all, random_state=42, train_size = part)\n",
    "#     pre_model.fit(X_t, y_t)\n",
    "#     pred = pre_model.predict(X_v)\n",
    "#     score = mean_squared_log_error(y_v, pred)\n",
    "#     folds_list.append([part, score])\n",
    "    \n",
    "    \n",
    "# import matplotlib.pyplot as plt\n",
    "\n",
    "# folds = [i[0] for i in folds_list]\n",
    "# scores = [i[1] for i in folds_list]\n",
    "\n",
    "# plt.plot(folds, scores)"
   ]
  },
  {
   "cell_type": "markdown",
   "metadata": {},
   "source": [
    "# **Final prediction**"
   ]
  },
  {
   "cell_type": "code",
   "execution_count": null,
   "metadata": {
    "execution": {
     "iopub.execute_input": "2024-06-25T07:59:35.457828Z",
     "iopub.status.busy": "2024-06-25T07:59:35.457403Z",
     "iopub.status.idle": "2024-06-25T07:59:37.189844Z",
     "shell.execute_reply": "2024-06-25T07:59:37.188908Z",
     "shell.execute_reply.started": "2024-06-25T07:59:35.457799Z"
    }
   },
   "outputs": [],
   "source": [
    "X, X_test = X.align(X_test, join='left', axis=1)\n",
    "\n",
    "model = XGBRegressor(\n",
    "    n_estimators=460,\n",
    "    learning_rate=0.05,\n",
    "    reg_alpha=1.3,\n",
    "    reg_lambda=8,\n",
    "    max_depth=4\n",
    ")\n",
    "\n",
    "# model.fit(X, y_all)\n",
    "model.fit(X_sub, y_sub)\n",
    "\n",
    "predictions = model.predict(X_test)"
   ]
  },
  {
   "cell_type": "code",
   "execution_count": null,
   "metadata": {
    "execution": {
     "iopub.execute_input": "2024-06-25T07:59:37.191920Z",
     "iopub.status.busy": "2024-06-25T07:59:37.191495Z",
     "iopub.status.idle": "2024-06-25T07:59:37.202506Z",
     "shell.execute_reply": "2024-06-25T07:59:37.201531Z",
     "shell.execute_reply.started": "2024-06-25T07:59:37.191880Z"
    }
   },
   "outputs": [],
   "source": [
    "output = pd.DataFrame({'Id': test_data['Id'],\n",
    "                       'SalePrice': predictions})\n",
    "output.to_csv('submission.csv', index=False)"
   ]
  },
  {
   "cell_type": "code",
   "execution_count": null,
   "metadata": {
    "execution": {
     "iopub.execute_input": "2024-06-25T07:59:37.203862Z",
     "iopub.status.busy": "2024-06-25T07:59:37.203531Z",
     "iopub.status.idle": "2024-06-25T07:59:37.216059Z",
     "shell.execute_reply": "2024-06-25T07:59:37.214751Z",
     "shell.execute_reply.started": "2024-06-25T07:59:37.203833Z"
    }
   },
   "outputs": [],
   "source": [
    "output"
   ]
  }
 ],
 "metadata": {
  "kaggle": {
   "accelerator": "none",
   "dataSources": [
    {
     "databundleVersionId": 868283,
     "sourceId": 5407,
     "sourceType": "competition"
    }
   ],
   "dockerImageVersionId": 30732,
   "isGpuEnabled": false,
   "isInternetEnabled": false,
   "language": "python",
   "sourceType": "notebook"
  },
  "kernelspec": {
   "display_name": "Python 3 (ipykernel)",
   "language": "python",
   "name": "python3"
  },
  "language_info": {
   "codemirror_mode": {
    "name": "ipython",
    "version": 3
   },
   "file_extension": ".py",
   "mimetype": "text/x-python",
   "name": "python",
   "nbconvert_exporter": "python",
   "pygments_lexer": "ipython3",
   "version": "3.10.9"
  }
 },
 "nbformat": 4,
 "nbformat_minor": 4
}
