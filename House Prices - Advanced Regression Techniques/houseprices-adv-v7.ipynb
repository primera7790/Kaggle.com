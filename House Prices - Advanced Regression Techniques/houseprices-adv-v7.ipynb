{
 "cells": [
  {
   "cell_type": "markdown",
   "metadata": {},
   "source": [
    "# **Data import**"
   ]
  },
  {
   "cell_type": "code",
   "execution_count": 1,
   "metadata": {
    "ExecuteTime": {
     "end_time": "2024-06-22T14:39:55.094791Z",
     "start_time": "2024-06-22T14:39:54.631298Z"
    },
    "execution": {
     "iopub.execute_input": "2024-06-21T16:10:01.333345Z",
     "iopub.status.busy": "2024-06-21T16:10:01.332878Z",
     "iopub.status.idle": "2024-06-21T16:10:01.389470Z",
     "shell.execute_reply": "2024-06-21T16:10:01.388378Z",
     "shell.execute_reply.started": "2024-06-21T16:10:01.333312Z"
    }
   },
   "outputs": [],
   "source": [
    "import numpy as np\n",
    "import pandas as pd\n",
    "\n",
    "train_data = pd.read_csv('data/train.csv')\n",
    "test_data = pd.read_csv('data/test.csv')\n",
    "\n",
    "X_all = train_data.drop(['SalePrice', 'Alley', 'PoolQC', 'MiscFeature'], axis=1)\n",
    "y_all = train_data.SalePrice\n",
    "\n",
    "test_data = test_data.drop(['Alley', 'PoolQC', 'MiscFeature'], axis=1)"
   ]
  },
  {
   "cell_type": "markdown",
   "metadata": {},
   "source": [
    "# **Column description**"
   ]
  },
  {
   "cell_type": "code",
   "execution_count": 2,
   "metadata": {
    "ExecuteTime": {
     "end_time": "2024-06-22T14:39:55.155829Z",
     "start_time": "2024-06-22T14:39:55.096757Z"
    },
    "execution": {
     "iopub.execute_input": "2024-06-21T16:10:01.391505Z",
     "iopub.status.busy": "2024-06-21T16:10:01.391111Z",
     "iopub.status.idle": "2024-06-21T16:10:01.453371Z",
     "shell.execute_reply": "2024-06-21T16:10:01.451943Z",
     "shell.execute_reply.started": "2024-06-21T16:10:01.391474Z"
    }
   },
   "outputs": [],
   "source": [
    "numeric_cols = X_all.drop(['Id', 'GarageYrBlt', 'YrSold', 'YearBuilt'], axis=1).select_dtypes(['int64', 'float64']).columns\n",
    "categorial_cols = X_all.select_dtypes('object').columns.to_list()\n",
    "categorial_cols.extend(['GarageYrBlt', 'YrSold', 'YearBuilt'])\n",
    "\n",
    "# X_all = X_all.drop('YearRemodAdd', axis=1)\n",
    "\n",
    "many_null_cols = [nc for nc in X_all.columns if len(X_all[nc][X_all[nc].isnull()]) > len(X_all.index) / 2]  # <---- for delete?\n",
    "any_null_cols = [any_null_col for any_null_col in X_all.columns if X_all[any_null_col].isnull().any()]\n",
    "null_to_not = ['MasVnrType', 'GarageType', 'GarageFinish', \n",
    "               'Electrical', 'FireplaceQu', 'Fence', 'BsmtQual', \n",
    "               'BsmtCond', 'BsmtExposure', 'BsmtFinType1','BsmtFinType2', 'GarageQual', \n",
    "               'GarageCond', 'GarageYrBlt']\n",
    "null_to_const = ['LotFrontage', 'MasVnrArea']\n",
    "\n",
    "any_null_cols_test = [any_null_col for any_null_col in test_data.columns if test_data[any_null_col].isnull().any()]\n",
    "dif = [i for i in any_null_cols_test if i not in any_null_cols]\n",
    "null_to_most_freq_test = test_data[dif].select_dtypes('object').columns.to_list()\n",
    "null_to_const_test = test_data[dif].select_dtypes('float64').columns.to_list()\n",
    "\n",
    "cols_to_order = ['ExterQual', 'ExterCond', 'BsmtQual', 'BsmtCond', 'BsmtExposure', \n",
    "                 'BsmtFinType1', 'BsmtFinType2', 'HeatingQC', 'KitchenQual', \n",
    "                 'FireplaceQu', 'GarageQual', 'GarageCond', 'Fence']\n",
    "\n",
    "cols_to_onehot = [col for col in categorial_cols if col not in cols_to_order]"
   ]
  },
  {
   "cell_type": "markdown",
   "metadata": {},
   "source": [
    "# **Data notes**"
   ]
  },
  {
   "cell_type": "code",
   "execution_count": 3,
   "metadata": {
    "ExecuteTime": {
     "end_time": "2024-06-22T14:39:55.171760Z",
     "start_time": "2024-06-22T14:39:55.156798Z"
    },
    "execution": {
     "iopub.execute_input": "2024-06-21T16:10:01.457952Z",
     "iopub.status.busy": "2024-06-21T16:10:01.456848Z",
     "iopub.status.idle": "2024-06-21T16:10:01.477221Z",
     "shell.execute_reply": "2024-06-21T16:10:01.476034Z",
     "shell.execute_reply.started": "2024-06-21T16:10:01.457913Z"
    }
   },
   "outputs": [],
   "source": [
    "less_then_two_unique_values_cols = [i for i in X_all.columns if len(X_all[i].unique()) < 2]\n",
    "#  len(less_then_two_unique_values_cols) => 0\n",
    "\n",
    "\n",
    "#increased attention\n",
    "\n",
    "useless_cols = ['Id']\n",
    "\n",
    "suspicious_obs = list()\n",
    "suspicious_obs.extend(X_all.LotFrontage[X_all.LotFrontage > 200].index.to_list()) \n",
    "# anomaly_obs in col\n",
    "suspicious_obs.append(1379)\n",
    "# electrical NA, only one obs.. in test without missing..delete, not, most freq, or knn\n",
    "\n",
    "\n",
    "interdep_cols = [\n",
    "    ['Condition1', 'Condition2'],\n",
    "    ['Exterior1st', 'Exterior2nd'],\n",
    "    ['BsmtQual', 'BsmtCond', 'BsmtExposure', 'BsmtFinType1', 'BsmtFinSF1', 'BsmtFinType2', 'BsmtFinSF2', \n",
    "     'BsmtUnfSF', 'TotalBsmtSF', 'BsmtFullBath', 'BsmtHalfBath'],\n",
    "    ['Fireplaces', 'FireplaceQu'], \n",
    "    ['GarageType', 'GarageYrBlt', 'GarageFinish', 'GarageCars', 'GarageArea', 'GarageQual', 'GarageCond'], \n",
    "    ['PoolArea', 'PoolQC']\n",
    "]\n",
    "\n",
    "doubtful_cols = ['GarageYrBlt', 'YrSold', 'YearBuilt', 'YearRemodAdd'] \n",
    "#  numeric with 'not' potencially\n",
    "\n",
    "\n",
    "more_then_ten_to_onehot = [i for i in cols_to_onehot if len(X_all[i].unique()) > 10]  \n",
    "# len(more_then_ten_to_onehot) => 4"
   ]
  },
  {
   "cell_type": "code",
   "execution_count": 4,
   "metadata": {
    "ExecuteTime": {
     "end_time": "2024-06-22T14:39:55.186720Z",
     "start_time": "2024-06-22T14:39:55.173753Z"
    },
    "execution": {
     "iopub.execute_input": "2024-06-21T16:10:01.489503Z",
     "iopub.status.busy": "2024-06-21T16:10:01.487603Z",
     "iopub.status.idle": "2024-06-21T16:10:01.498443Z",
     "shell.execute_reply": "2024-06-21T16:10:01.497221Z",
     "shell.execute_reply.started": "2024-06-21T16:10:01.489460Z"
    }
   },
   "outputs": [
    {
     "name": "stdout",
     "output_type": "stream",
     "text": [
      "Column: MSZoning. Nulls: 4\n",
      "[455, 756, 790, 1444] object\n",
      "\n",
      "Column: Utilities. Nulls: 2\n",
      "[455, 485] object\n",
      "\n",
      "Column: Exterior1st. Nulls: 1\n",
      "[691] object\n",
      "\n",
      "Column: Exterior2nd. Nulls: 1\n",
      "[691] object\n",
      "\n",
      "Column: BsmtFinSF1. Nulls: 1\n",
      "[660] float64\n",
      "\n",
      "Column: BsmtFinSF2. Nulls: 1\n",
      "[660] float64\n",
      "\n",
      "Column: BsmtUnfSF. Nulls: 1\n",
      "[660] float64\n",
      "\n",
      "Column: TotalBsmtSF. Nulls: 1\n",
      "[660] float64\n",
      "\n",
      "Column: BsmtFullBath. Nulls: 2\n",
      "[660, 728] float64\n",
      "\n",
      "Column: BsmtHalfBath. Nulls: 2\n",
      "[660, 728] float64\n",
      "\n",
      "Column: KitchenQual. Nulls: 1\n",
      "[95] object\n",
      "\n",
      "Column: Functional. Nulls: 2\n",
      "[756, 1013] object\n",
      "\n",
      "Column: GarageCars. Nulls: 1\n",
      "[1116] float64\n",
      "\n",
      "Column: GarageArea. Nulls: 1\n",
      "[1116] float64\n",
      "\n",
      "Column: SaleType. Nulls: 1\n",
      "[1029] object\n",
      "\n"
     ]
    }
   ],
   "source": [
    "t_null_data = test_data[dif]\n",
    "\n",
    "for i in dif:\n",
    "    num = len(test_data[i][test_data[i].isnull()])\n",
    "    print(f'Column: {i}. Nulls: {num}')\n",
    "    print(test_data[i][test_data[i].isnull()].index.to_list(), test_data[i].dtype)\n",
    "    print()\n",
    "    "
   ]
  },
  {
   "cell_type": "markdown",
   "metadata": {},
   "source": [
    "# **Data optimization. Part 1**"
   ]
  },
  {
   "cell_type": "code",
   "execution_count": 5,
   "metadata": {
    "ExecuteTime": {
     "end_time": "2024-06-22T14:39:55.201679Z",
     "start_time": "2024-06-22T14:39:55.188714Z"
    },
    "execution": {
     "iopub.execute_input": "2024-06-21T16:10:01.513944Z",
     "iopub.status.busy": "2024-06-21T16:10:01.513593Z",
     "iopub.status.idle": "2024-06-21T16:10:01.533178Z",
     "shell.execute_reply": "2024-06-21T16:10:01.531919Z",
     "shell.execute_reply.started": "2024-06-21T16:10:01.513905Z"
    }
   },
   "outputs": [],
   "source": [
    "X_all = X_all.drop('Id', axis=1)\n",
    "test_id = test_data['Id']\n",
    "test_data = test_data.drop('Id', axis=1)\n",
    "\n",
    "electrical_null_idx = X_all['Electrical'][X_all['Electrical'].isnull()].index\n",
    "X_all.loc[electrical_null_idx, 'Electrical'] = X_all['Electrical'].value_counts().index[0]\n"
   ]
  },
  {
   "cell_type": "markdown",
   "metadata": {},
   "source": [
    "# **Missing value recovery**"
   ]
  },
  {
   "cell_type": "code",
   "execution_count": 6,
   "metadata": {
    "ExecuteTime": {
     "end_time": "2024-06-22T14:39:55.969965Z",
     "start_time": "2024-06-22T14:39:55.203673Z"
    },
    "execution": {
     "iopub.execute_input": "2024-06-21T16:10:01.535565Z",
     "iopub.status.busy": "2024-06-21T16:10:01.535087Z",
     "iopub.status.idle": "2024-06-21T16:10:01.576928Z",
     "shell.execute_reply": "2024-06-21T16:10:01.575789Z",
     "shell.execute_reply.started": "2024-06-21T16:10:01.535525Z"
    }
   },
   "outputs": [],
   "source": [
    "from sklearn.impute import SimpleImputer\n",
    "\n",
    "X = X_all.copy()\n",
    "X_test = test_data.copy()\n",
    "\n",
    "X[null_to_not] = X[null_to_not].fillna('not')\n",
    "X_test[null_to_not] = X_test[null_to_not].fillna('not')\n",
    "\n",
    "X[null_to_const] = X[null_to_const].fillna(0)\n",
    "X_test[null_to_const] = X_test[null_to_const].fillna(0)\n",
    "X_test[null_to_const_test] = X_test[null_to_const_test].fillna(0)\n",
    "\n",
    "imp = SimpleImputer(strategy='most_frequent')\n",
    "\n",
    "X_test[null_to_most_freq_test] = pd.DataFrame(imp.fit_transform(X_test[null_to_most_freq_test]))\n",
    "X_test[null_to_most_freq_test].columns = null_to_most_freq_test\n"
   ]
  },
  {
   "cell_type": "markdown",
   "metadata": {},
   "source": [
    "# **Сategorical transformation**"
   ]
  },
  {
   "cell_type": "code",
   "execution_count": 7,
   "metadata": {
    "ExecuteTime": {
     "end_time": "2024-06-22T14:39:56.047632Z",
     "start_time": "2024-06-22T14:39:55.970962Z"
    },
    "execution": {
     "iopub.execute_input": "2024-06-21T16:10:01.578601Z",
     "iopub.status.busy": "2024-06-21T16:10:01.578291Z",
     "iopub.status.idle": "2024-06-21T16:10:01.688534Z",
     "shell.execute_reply": "2024-06-21T16:10:01.687374Z",
     "shell.execute_reply.started": "2024-06-21T16:10:01.578577Z"
    }
   },
   "outputs": [],
   "source": [
    "from sklearn.preprocessing import OrdinalEncoder\n",
    "\n",
    "categories_to_order = [\n",
    "    ['not', 'Po', 'Fa', 'TA', 'Gd', 'Ex'], ['not', 'Po', 'Fa', 'TA', 'Gd', 'Ex'], \n",
    "    ['not', 'Po', 'Fa', 'TA', 'Gd', 'Ex'], ['not', 'Po', 'Fa', 'TA', 'Gd', 'Ex'],\n",
    "    ['not', 'No', 'Mn', 'Av', 'Gd'], ['not', 'Unf', 'LwQ', 'Rec', 'BLQ', 'ALQ', 'GLQ'],\n",
    "    ['not', 'Unf', 'LwQ', 'Rec', 'BLQ', 'ALQ', 'GLQ'], ['not', 'Po', 'Fa', 'TA', 'Gd', 'Ex'],\n",
    "    ['not', 'Po', 'Fa', 'TA', 'Gd', 'Ex'], ['not', 'Po', 'Fa', 'TA', 'Gd', 'Ex'], \n",
    "    ['not', 'Po', 'Fa', 'TA', 'Gd', 'Ex'], ['not', 'Po', 'Fa', 'TA', 'Gd', 'Ex'], \n",
    "    ['not', 'MnWw', 'GdWo', 'MnPrv', 'GdPrv']\n",
    "]\n",
    "\n",
    "ord_enc = OrdinalEncoder(categories=categories_to_order)\n",
    "X[cols_to_order] = ord_enc.fit_transform(X[cols_to_order])\n",
    "X_test[cols_to_order] = ord_enc.transform(X_test[cols_to_order])\n",
    "\n",
    "X_onehot = pd.get_dummies(X[cols_to_onehot])\n",
    "X_test_onehot = pd.get_dummies(X_test[cols_to_onehot])\n",
    "\n",
    "X = X.drop(cols_to_onehot, axis = 1)\n",
    "X_test = X_test.drop(cols_to_onehot, axis = 1)\n",
    "\n",
    "X = pd.concat([X, X_onehot], axis=1)\n",
    "X_test = pd.concat([X_test, X_test_onehot], axis=1)"
   ]
  },
  {
   "cell_type": "markdown",
   "metadata": {},
   "source": [
    "# **Data optimization. Part 2**"
   ]
  },
  {
   "cell_type": "code",
   "execution_count": 8,
   "metadata": {
    "ExecuteTime": {
     "end_time": "2024-06-22T14:39:56.063330Z",
     "start_time": "2024-06-22T14:39:56.048626Z"
    },
    "execution": {
     "iopub.execute_input": "2024-06-21T16:10:01.690380Z",
     "iopub.status.busy": "2024-06-21T16:10:01.689922Z",
     "iopub.status.idle": "2024-06-21T16:10:01.695487Z",
     "shell.execute_reply": "2024-06-21T16:10:01.694158Z",
     "shell.execute_reply.started": "2024-06-21T16:10:01.690340Z"
    }
   },
   "outputs": [],
   "source": [
    "# from sklearn.ensemble import IsolationForest\n",
    "\n",
    "# model_IF = IsolationForest(contamination=0.01, random_state=42)\n",
    "# model_IF.fit(X[numeric_cols])\n",
    "\n",
    "# X_new = pd.DataFrame()\n",
    "# X_new['anomaly_scores'] = model_IF.decision_function(X[numeric_cols])\n",
    "# X_new['anomaly'] = model_IF.predict(X[numeric_cols])\n",
    "\n",
    "# anomaly_idxs = X_new['anomaly'][X_new['anomaly'] < 0].index\n",
    "# anomaly_idxs\n",
    "# # X_new = X.drop(anomaly_idxs)\n",
    "# # y_all_new = y_all.drop(anomaly_idxs)"
   ]
  },
  {
   "cell_type": "code",
   "execution_count": 9,
   "metadata": {
    "ExecuteTime": {
     "end_time": "2024-06-22T14:40:51.224521Z",
     "start_time": "2024-06-22T14:39:56.065325Z"
    }
   },
   "outputs": [
    {
     "name": "stdout",
     "output_type": "stream",
     "text": [
      "Collecting package metadata (current_repodata.json): ...working... done\n",
      "Solving environment: ...working... done\n",
      "\n",
      "## Package Plan ##\n",
      "\n",
      "  environment location: C:\\ProgramData\\anaconda3\n",
      "\n",
      "  added / updated specs:\n",
      "    - xgboost\n",
      "\n",
      "\n",
      "The following NEW packages will be INSTALLED:\n",
      "\n",
      "  _py-xgboost-mutex  conda-forge/win-64::_py-xgboost-mutex-2.0-gpu_0 \n",
      "  libxgboost         pkgs/main/win-64::libxgboost-2.0.3-h5da7b33_0 \n",
      "  py-xgboost         conda-forge/noarch::py-xgboost-2.0.3-cuda120_pyh3ef1b53_4 \n",
      "  xgboost            conda-forge/noarch::xgboost-2.0.3-cuda120_pyh68bd8d9_4 \n",
      "\n",
      "The following packages will be UPDATED:\n",
      "\n",
      "  ca-certificates    pkgs/main::ca-certificates-2023.01.10~ --> conda-forge::ca-certificates-2024.6.2-h56e8100_0 \n",
      "  certifi            pkgs/main/win-64::certifi-2022.12.7-p~ --> conda-forge/noarch::certifi-2024.6.2-pyhd8ed1ab_0 \n",
      "  openssl                                 1.1.1t-h2bbff1b_0 --> 1.1.1w-h2bbff1b_0 \n",
      "\n",
      "\n",
      "\n",
      "Downloading and Extracting Packages\n",
      "\n",
      "\n",
      "Preparing transaction: ...working... done\n",
      "Verifying transaction: ...working... failed\n",
      "\n",
      "Note: you may need to restart the kernel to use updated packages.\n"
     ]
    },
    {
     "name": "stderr",
     "output_type": "stream",
     "text": [
      "\n",
      "\n",
      "==> WARNING: A newer version of conda exists. <==\n",
      "  current version: 23.1.0\n",
      "  latest version: 24.5.0\n",
      "\n",
      "Please update conda by running\n",
      "\n",
      "    $ conda update -n base -c defaults conda\n",
      "\n",
      "Or to minimize the number of packages updated during conda update use\n",
      "\n",
      "     conda install conda=24.5.0\n",
      "\n",
      "\n",
      "\n",
      "EnvironmentNotWritableError: The current user does not have write permissions to the target environment.\n",
      "  environment location: C:\\ProgramData\\anaconda3\n",
      "\n",
      "\n"
     ]
    }
   ],
   "source": [
    "conda install -c conda-forge xgboost"
   ]
  },
  {
   "cell_type": "markdown",
   "metadata": {},
   "source": [
    "# **Model optimization**"
   ]
  },
  {
   "cell_type": "code",
   "execution_count": 11,
   "metadata": {
    "ExecuteTime": {
     "end_time": "2024-06-22T14:40:51.286356Z",
     "start_time": "2024-06-22T14:40:51.242473Z"
    },
    "execution": {
     "iopub.execute_input": "2024-06-21T16:10:01.740898Z",
     "iopub.status.busy": "2024-06-21T16:10:01.740522Z",
     "iopub.status.idle": "2024-06-21T16:10:01.751033Z",
     "shell.execute_reply": "2024-06-21T16:10:01.749722Z",
     "shell.execute_reply.started": "2024-06-21T16:10:01.740869Z"
    }
   },
   "outputs": [],
   "source": [
    "from xgboost import XGBRegressor\n",
    "from sklearn.metrics import mean_squared_log_error\n",
    "\n",
    "pre_model = XGBRegressor(\n",
    "    n_estimators=460, \n",
    "    learning_rate=0.05, \n",
    "    random_state=42, \n",
    "    n_jobs=-1,\n",
    "    reg_alpha=1.3,\n",
    "    reg_lambda=8\n",
    ")"
   ]
  },
  {
   "cell_type": "code",
   "execution_count": 64,
   "metadata": {
    "execution": {
     "iopub.execute_input": "2024-06-21T16:10:01.752759Z",
     "iopub.status.busy": "2024-06-21T16:10:01.752423Z",
     "iopub.status.idle": "2024-06-21T16:10:01.763453Z",
     "shell.execute_reply": "2024-06-21T16:10:01.762235Z",
     "shell.execute_reply.started": "2024-06-21T16:10:01.752732Z"
    }
   },
   "outputs": [],
   "source": [
    "# from sklearn.model_selection import GridSearchCV\n",
    "\n",
    "# params = {\n",
    "#     'n_estimators': range(459, 462),\n",
    "#     'learning_rate': [0.049, 0.05, 0.051], \n",
    "#     'reg_alpha': [a / 10 for a in range(5, 15)] + [0], \n",
    "#     'reg_lambda': [a / 10 for a in range(75, 85)] + [0]   \n",
    "# }\n",
    "\n",
    "# grid = GridSearchCV(\n",
    "#     pre_model, \n",
    "#     params, \n",
    "#     n_jobs=-1, \n",
    "#     scoring='neg_mean_squared_log_error', \n",
    "#     cv=5,\n",
    "#     verbose=2\n",
    "# )\n",
    "\n",
    "# grid.fit(X, y_all)"
   ]
  },
  {
   "cell_type": "code",
   "execution_count": 65,
   "metadata": {
    "execution": {
     "iopub.execute_input": "2024-06-21T16:10:01.765705Z",
     "iopub.status.busy": "2024-06-21T16:10:01.764921Z",
     "iopub.status.idle": "2024-06-21T16:10:01.777300Z",
     "shell.execute_reply": "2024-06-21T16:10:01.775958Z",
     "shell.execute_reply.started": "2024-06-21T16:10:01.765662Z"
    }
   },
   "outputs": [],
   "source": [
    "# print(grid.best_params_)"
   ]
  },
  {
   "cell_type": "code",
   "execution_count": 12,
   "metadata": {
    "ExecuteTime": {
     "end_time": "2024-06-22T14:41:45.866711Z",
     "start_time": "2024-06-22T14:41:37.926379Z"
    },
    "execution": {
     "iopub.execute_input": "2024-06-21T16:10:01.779144Z",
     "iopub.status.busy": "2024-06-21T16:10:01.778700Z",
     "iopub.status.idle": "2024-06-21T16:10:17.692686Z",
     "shell.execute_reply": "2024-06-21T16:10:17.691477Z",
     "shell.execute_reply.started": "2024-06-21T16:10:01.779105Z"
    }
   },
   "outputs": [
    {
     "data": {
      "text/plain": [
       "0.01665420184641304"
      ]
     },
     "execution_count": 12,
     "metadata": {},
     "output_type": "execute_result"
    }
   ],
   "source": [
    "from sklearn.model_selection import cross_val_score\n",
    "\n",
    "scores = cross_val_score(pre_model, X, y_all, cv=5, scoring='neg_mean_squared_log_error')\n",
    "scores.mean() * -1\n"
   ]
  },
  {
   "cell_type": "code",
   "execution_count": 18,
   "metadata": {
    "ExecuteTime": {
     "end_time": "2024-06-22T14:45:32.861266Z",
     "start_time": "2024-06-22T14:45:30.923034Z"
    },
    "execution": {
     "iopub.execute_input": "2024-06-21T16:10:17.727894Z",
     "iopub.status.busy": "2024-06-21T16:10:17.727551Z",
     "iopub.status.idle": "2024-06-21T16:10:23.865686Z",
     "shell.execute_reply": "2024-06-21T16:10:23.864248Z",
     "shell.execute_reply.started": "2024-06-21T16:10:17.727865Z"
    }
   },
   "outputs": [
    {
     "data": {
      "text/plain": [
       "<BarContainer object of 50 artists>"
      ]
     },
     "execution_count": 18,
     "metadata": {},
     "output_type": "execute_result"
    },
    {
     "data": {
      "image/png": "[encoded data removed]",
      "text/plain": [
       "<Figure size 1500x800 with 1 Axes>"
      ]
     },
     "metadata": {},
     "output_type": "display_data"
    }
   ],
   "source": [
    "import matplotlib.pyplot as plt\n",
    "\n",
    "pre_model.fit(X, y_all)\n",
    "\n",
    "feat_imp = pre_model.feature_importances_\n",
    "feat_names = pre_model.feature_names_in_\n",
    "\n",
    "df_imp = pd.DataFrame(index=feat_names, data=feat_imp).sort_values(0, ascending=False)\n",
    "\n",
    "plt.figure(figsize=(15, 8))\n",
    "plt.xticks(rotation=45)\n",
    "plt.bar(df_imp.index[0:50], df_imp[0][0:50])"
   ]
  },
  {
   "cell_type": "code",
   "execution_count": 21,
   "metadata": {
    "ExecuteTime": {
     "end_time": "2024-06-22T14:47:49.626455Z",
     "start_time": "2024-06-22T14:47:49.609501Z"
    },
    "execution": {
     "iopub.execute_input": "2024-06-21T16:10:23.867805Z",
     "iopub.status.busy": "2024-06-21T16:10:23.867375Z",
     "iopub.status.idle": "2024-06-21T16:10:23.878460Z",
     "shell.execute_reply": "2024-06-21T16:10:23.877087Z",
     "shell.execute_reply.started": "2024-06-21T16:10:23.867772Z"
    }
   },
   "outputs": [
    {
     "data": {
      "text/html": [
       "<div>\n",
       "<style scoped>\n",
       "    .dataframe tbody tr th:only-of-type {\n",
       "        vertical-align: middle;\n",
       "    }\n",
       "\n",
       "    .dataframe tbody tr th {\n",
       "        vertical-align: top;\n",
       "    }\n",
       "\n",
       "    .dataframe thead th {\n",
       "        text-align: right;\n",
       "    }\n",
       "</style>\n",
       "<table border=\"1\" class=\"dataframe\">\n",
       "  <thead>\n",
       "    <tr style=\"text-align: right;\">\n",
       "      <th></th>\n",
       "      <th>0</th>\n",
       "    </tr>\n",
       "  </thead>\n",
       "  <tbody>\n",
       "    <tr>\n",
       "      <th>OverallQual</th>\n",
       "      <td>0.338814</td>\n",
       "    </tr>\n",
       "    <tr>\n",
       "      <th>GarageCars</th>\n",
       "      <td>0.054379</td>\n",
       "    </tr>\n",
       "    <tr>\n",
       "      <th>LandContour_Bnk</th>\n",
       "      <td>0.051692</td>\n",
       "    </tr>\n",
       "    <tr>\n",
       "      <th>BsmtQual</th>\n",
       "      <td>0.033604</td>\n",
       "    </tr>\n",
       "    <tr>\n",
       "      <th>GrLivArea</th>\n",
       "      <td>0.028485</td>\n",
       "    </tr>\n",
       "    <tr>\n",
       "      <th>KitchenQual</th>\n",
       "      <td>0.028104</td>\n",
       "    </tr>\n",
       "    <tr>\n",
       "      <th>KitchenAbvGr</th>\n",
       "      <td>0.026327</td>\n",
       "    </tr>\n",
       "    <tr>\n",
       "      <th>TotRmsAbvGrd</th>\n",
       "      <td>0.021370</td>\n",
       "    </tr>\n",
       "    <tr>\n",
       "      <th>MSZoning_RM</th>\n",
       "      <td>0.020779</td>\n",
       "    </tr>\n",
       "    <tr>\n",
       "      <th>FireplaceQu</th>\n",
       "      <td>0.019305</td>\n",
       "    </tr>\n",
       "  </tbody>\n",
       "</table>\n",
       "</div>"
      ],
      "text/plain": [
       "                        0\n",
       "OverallQual      0.338814\n",
       "GarageCars       0.054379\n",
       "LandContour_Bnk  0.051692\n",
       "BsmtQual         0.033604\n",
       "GrLivArea        0.028485\n",
       "KitchenQual      0.028104\n",
       "KitchenAbvGr     0.026327\n",
       "TotRmsAbvGrd     0.021370\n",
       "MSZoning_RM      0.020779\n",
       "FireplaceQu      0.019305"
      ]
     },
     "execution_count": 21,
     "metadata": {},
     "output_type": "execute_result"
    }
   ],
   "source": [
    "not_used_features = df_imp[df_imp[0] == 0].index\n",
    "most_important_feature = df_imp.index[0]\n",
    "\n",
    "df_imp.sort_values(0, ascending=False).head(10)"
   ]
  },
  {
   "cell_type": "markdown",
   "metadata": {},
   "source": [
    "# **Experimental block**"
   ]
  },
  {
   "cell_type": "code",
   "execution_count": 72,
   "metadata": {
    "execution": {
     "iopub.execute_input": "2024-06-21T16:10:23.881403Z",
     "iopub.status.busy": "2024-06-21T16:10:23.880255Z",
     "iopub.status.idle": "2024-06-21T16:10:23.890472Z",
     "shell.execute_reply": "2024-06-21T16:10:23.889022Z",
     "shell.execute_reply.started": "2024-06-21T16:10:23.881355Z"
    }
   },
   "outputs": [],
   "source": [
    "# from sklearn.model_selection import train_test_split\n",
    "\n",
    "# pre_model.fit(X, y_all)\n",
    "\n",
    "# folds_list = list()\n",
    "# for s in range(5, 10):\n",
    "#     part = s / 10\n",
    "#     X_t, X_v, y_t, y_v = train_test_split(X, y_all, random_state=42, train_size = part)\n",
    "#     pre_model.fit(X_t, y_t)\n",
    "#     pred = pre_model.predict(X_v)\n",
    "#     score = mean_squared_log_error(y_v, pred)\n",
    "#     folds_list.append([part, score])\n",
    "    \n",
    "    \n",
    "# import matplotlib.pyplot as plt\n",
    "\n",
    "# folds = [i[0] for i in folds_list]\n",
    "# scores = [i[1] for i in folds_list]\n",
    "\n",
    "# plt.plot(folds, scores)"
   ]
  },
  {
   "cell_type": "markdown",
   "metadata": {},
   "source": [
    "# **Final prediction**"
   ]
  },
  {
   "cell_type": "code",
   "execution_count": 22,
   "metadata": {
    "ExecuteTime": {
     "end_time": "2024-06-22T14:48:44.731146Z",
     "start_time": "2024-06-22T14:48:43.172272Z"
    },
    "execution": {
     "iopub.execute_input": "2024-06-21T16:10:23.919161Z",
     "iopub.status.busy": "2024-06-21T16:10:23.918718Z",
     "iopub.status.idle": "2024-06-21T16:10:27.587174Z",
     "shell.execute_reply": "2024-06-21T16:10:27.586129Z",
     "shell.execute_reply.started": "2024-06-21T16:10:23.919127Z"
    }
   },
   "outputs": [],
   "source": [
    "X, X_test = X.align(X_test, join='left', axis=1)\n",
    "\n",
    "model = XGBRegressor(\n",
    "    n_estimators=460,\n",
    "    learning_rate=0.05,\n",
    "    reg_alpha=1.3,\n",
    "    reg_lambda=8\n",
    ")\n",
    "\n",
    "model.fit(X, y_all)\n",
    "\n",
    "predictions = model.predict(X_test)"
   ]
  },
  {
   "cell_type": "code",
   "execution_count": 23,
   "metadata": {
    "ExecuteTime": {
     "end_time": "2024-06-22T14:48:44.747103Z",
     "start_time": "2024-06-22T14:48:44.734137Z"
    },
    "execution": {
     "iopub.execute_input": "2024-06-21T16:10:27.589181Z",
     "iopub.status.busy": "2024-06-21T16:10:27.588424Z",
     "iopub.status.idle": "2024-06-21T16:10:27.600559Z",
     "shell.execute_reply": "2024-06-21T16:10:27.599121Z",
     "shell.execute_reply.started": "2024-06-21T16:10:27.589142Z"
    }
   },
   "outputs": [],
   "source": [
    "output = pd.DataFrame({'Id': test_id,\n",
    "                       'SalePrice': predictions})\n",
    "output.to_csv('submission.csv', index=False)"
   ]
  }
 ],
 "metadata": {
  "kaggle": {
   "accelerator": "none",
   "dataSources": [
    {
     "databundleVersionId": 868283,
     "sourceId": 5407,
     "sourceType": "competition"
    }
   ],
   "dockerImageVersionId": 30732,
   "isGpuEnabled": false,
   "isInternetEnabled": false,
   "language": "python",
   "sourceType": "notebook"
  },
  "kernelspec": {
   "display_name": "Python 3 (ipykernel)",
   "language": "python",
   "name": "python3"
  },
  "language_info": {
   "codemirror_mode": {
    "name": "ipython",
    "version": 3
   },
   "file_extension": ".py",
   "mimetype": "text/x-python",
   "name": "python",
   "nbconvert_exporter": "python",
   "pygments_lexer": "ipython3",
   "version": "3.10.9"
  }
 },
 "nbformat": 4,
 "nbformat_minor": 4
}
